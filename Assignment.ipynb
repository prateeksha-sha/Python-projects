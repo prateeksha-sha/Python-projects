{
 "cells": [
  {
   "cell_type": "code",
   "execution_count": 1,
   "id": "5ee24f88-0c7f-449c-995e-eba2d6faac3a",
   "metadata": {},
   "outputs": [],
   "source": [
    "single_quote = \"This is a single quote: '\"\n"
   ]
  },
  {
   "cell_type": "code",
   "execution_count": 2,
   "id": "f5116756-a07e-4f24-9e27-b7f74761c0ac",
   "metadata": {},
   "outputs": [
    {
     "data": {
      "text/plain": [
       "\"This is a single quote: '\""
      ]
     },
     "execution_count": 2,
     "metadata": {},
     "output_type": "execute_result"
    }
   ],
   "source": [
    "single_quote"
   ]
  },
  {
   "cell_type": "code",
   "execution_count": 3,
   "id": "c16e3738-64e8-422c-ba22-0864bfabd235",
   "metadata": {},
   "outputs": [],
   "source": [
    "single_quote = \" ' \""
   ]
  },
  {
   "cell_type": "code",
   "execution_count": 4,
   "id": "96474592-7a98-48a6-b495-104302fed93b",
   "metadata": {},
   "outputs": [
    {
     "data": {
      "text/plain": [
       "\" ' \""
      ]
     },
     "execution_count": 4,
     "metadata": {},
     "output_type": "execute_result"
    }
   ],
   "source": [
    "single_quote"
   ]
  },
  {
   "cell_type": "code",
   "execution_count": 5,
   "id": "7ce4f848-a8db-42c3-8e12-b272798b95a8",
   "metadata": {},
   "outputs": [],
   "source": [
    "x='a'"
   ]
  },
  {
   "cell_type": "code",
   "execution_count": 6,
   "id": "beb02fa9-ceef-4b00-a588-0d8336dd5fb8",
   "metadata": {},
   "outputs": [
    {
     "data": {
      "text/plain": [
       "'a'"
      ]
     },
     "execution_count": 6,
     "metadata": {},
     "output_type": "execute_result"
    }
   ],
   "source": [
    "x"
   ]
  },
  {
   "cell_type": "code",
   "execution_count": 7,
   "id": "759133fa-7a27-4eb4-a80a-d305fec6ee50",
   "metadata": {},
   "outputs": [
    {
     "data": {
      "text/plain": [
       "str"
      ]
     },
     "execution_count": 7,
     "metadata": {},
     "output_type": "execute_result"
    }
   ],
   "source": [
    "type(x) #As with type  function it says it is output."
   ]
  },
  {
   "cell_type": "code",
   "execution_count": 1,
   "id": "9c851204-0108-4c25-9ada-3a6c77437630",
   "metadata": {},
   "outputs": [],
   "source": [
    "p = 'Welcome to Python foundation course'"
   ]
  },
  {
   "cell_type": "code",
   "execution_count": 2,
   "id": "3e7f4a2f-b644-40d6-9070-33eb3ff06a9b",
   "metadata": {},
   "outputs": [
    {
     "data": {
      "text/plain": [
       "'Welcome to Python foundation course'"
      ]
     },
     "execution_count": 2,
     "metadata": {},
     "output_type": "execute_result"
    }
   ],
   "source": [
    "p"
   ]
  },
  {
   "cell_type": "code",
   "execution_count": 3,
   "id": "14563343-1738-4933-9924-93a2161e09de",
   "metadata": {},
   "outputs": [
    {
     "data": {
      "text/plain": [
       "0"
      ]
     },
     "execution_count": 3,
     "metadata": {},
     "output_type": "execute_result"
    }
   ],
   "source": [
    "p.find('W')"
   ]
  },
  {
   "cell_type": "code",
   "execution_count": 4,
   "id": "76160e56-c347-46ce-941c-8c6ac3d2c7ea",
   "metadata": {},
   "outputs": [
    {
     "data": {
      "text/plain": [
       "2"
      ]
     },
     "execution_count": 4,
     "metadata": {},
     "output_type": "execute_result"
    }
   ],
   "source": [
    "p.find('l')"
   ]
  },
  {
   "cell_type": "code",
   "execution_count": 5,
   "id": "8f566ca8-79df-4480-8459-0017fa41e569",
   "metadata": {},
   "outputs": [
    {
     "data": {
      "text/plain": [
       "3"
      ]
     },
     "execution_count": 5,
     "metadata": {},
     "output_type": "execute_result"
    }
   ],
   "source": [
    "p.find(\"c\")"
   ]
  },
  {
   "cell_type": "code",
   "execution_count": 6,
   "id": "a88da204-aba2-47a0-8e19-2b6918f57b3e",
   "metadata": {},
   "outputs": [
    {
     "data": {
      "text/plain": [
       "-1"
      ]
     },
     "execution_count": 6,
     "metadata": {},
     "output_type": "execute_result"
    }
   ],
   "source": [
    "p.find('p')"
   ]
  },
  {
   "cell_type": "code",
   "execution_count": 7,
   "id": "daaffa4a-9e5e-4e5a-9a50-c14a096c4141",
   "metadata": {},
   "outputs": [
    {
     "data": {
      "text/plain": [
       "11"
      ]
     },
     "execution_count": 7,
     "metadata": {},
     "output_type": "execute_result"
    }
   ],
   "source": [
    "p.find('P')"
   ]
  },
  {
   "cell_type": "code",
   "execution_count": 8,
   "id": "6eb9fdcd-e1f4-42c2-83d0-cb0d2713f4a7",
   "metadata": {},
   "outputs": [
    {
     "data": {
      "text/plain": [
       "2"
      ]
     },
     "execution_count": 8,
     "metadata": {},
     "output_type": "execute_result"
    }
   ],
   "source": [
    "p.count('c')"
   ]
  },
  {
   "cell_type": "code",
   "execution_count": 9,
   "id": "e42be9f5-4750-4ac5-95c4-d6099105d5c2",
   "metadata": {},
   "outputs": [
    {
     "data": {
      "text/plain": [
       "6"
      ]
     },
     "execution_count": 9,
     "metadata": {},
     "output_type": "execute_result"
    }
   ],
   "source": [
    "p.count(\"o\")"
   ]
  },
  {
   "cell_type": "code",
   "execution_count": 10,
   "id": "227c5334-9647-4411-ae78-85da866698c9",
   "metadata": {},
   "outputs": [
    {
     "data": {
      "text/plain": [
       "0"
      ]
     },
     "execution_count": 10,
     "metadata": {},
     "output_type": "execute_result"
    }
   ],
   "source": [
    "p.count(\"O\")"
   ]
  },
  {
   "cell_type": "code",
   "execution_count": 11,
   "id": "69533e8f-28b5-441e-a7a6-9c50bf1b6631",
   "metadata": {},
   "outputs": [
    {
     "data": {
      "text/plain": [
       "35"
      ]
     },
     "execution_count": 11,
     "metadata": {},
     "output_type": "execute_result"
    }
   ],
   "source": [
    "len(p)"
   ]
  },
  {
   "cell_type": "code",
   "execution_count": 28,
   "id": "6da5e9f6-b9eb-42e7-bd77-7f3ac7264a0b",
   "metadata": {},
   "outputs": [
    {
     "name": "stdout",
     "output_type": "stream",
     "text": [
      "Hello World\n"
     ]
    }
   ],
   "source": [
    "def concatenate_strings(q, r):\n",
    "    return q + r\n",
    "q = \"Hello \"\n",
    "r = \"World\"\n",
    "result = concatenate_strings(q, r)\n",
    "print(result)\n"
   ]
  },
  {
   "cell_type": "code",
   "execution_count": 31,
   "id": "36698d2a-8099-4c93-a040-c382bd06cc32",
   "metadata": {},
   "outputs": [
    {
     "name": "stdout",
     "output_type": "stream",
     "text": [
      "Total number of lowercase characters :  4\n"
     ]
    }
   ],
   "source": [
    "def count_lower(strings):\n",
    "    lower_count = sum(1 for char in strings if char.islower())\n",
    "    return lower_count\n",
    "word = \"PanaJi@12256\"\n",
    "result = count_lower(word)\n",
    "print(\"Total number of lowercase characters : \",result)"
   ]
  },
  {
   "cell_type": "code",
   "execution_count": 32,
   "id": "480ff910-09af-4ca3-97a2-167ba6b6d6fe",
   "metadata": {},
   "outputs": [
    {
     "name": "stdout",
     "output_type": "stream",
     "text": [
      "Total number of uppercase characters : 2\n"
     ]
    }
   ],
   "source": [
    "def count_upper(strings):\n",
    "    upper_count = sum(1 for char in strings if char.isupper())\n",
    "    return upper_count\n",
    "word = \"PanaJi@12256\"\n",
    "result = count_upper(word)\n",
    "print(\"Total number of uppercase characters :\",result)"
   ]
  },
  {
   "cell_type": "code",
   "execution_count": 33,
   "id": "fad1c1c7-02d5-4a7b-aa32-ea125eab1a00",
   "metadata": {},
   "outputs": [
    {
     "name": "stdout",
     "output_type": "stream",
     "text": [
      "Total number of numericals in string : 5\n"
     ]
    }
   ],
   "source": [
    "def count_numeric(strings):\n",
    "    numeric_count = sum(1 for char in strings if char.isnumeric())\n",
    "    return numeric_count\n",
    "word = \"PanaJi@12256\"\n",
    "result = count_numeric(word)\n",
    "print(\"Total number of numericals in string :\",result)"
   ]
  },
  {
   "cell_type": "code",
   "execution_count": 36,
   "id": "43493883-c195-457a-8d4a-7645cc81f310",
   "metadata": {},
   "outputs": [],
   "source": [
    "numerical_value = 12\n",
    "\n",
    "# Converting the numerical value to a string\n",
    "numerical_string = str(numerical_value)\n"
   ]
  },
  {
   "cell_type": "code",
   "execution_count": 37,
   "id": "b3594dba-93c1-4b64-9029-56b3cab6d0dc",
   "metadata": {},
   "outputs": [
    {
     "data": {
      "text/plain": [
       "'12'"
      ]
     },
     "execution_count": 37,
     "metadata": {},
     "output_type": "execute_result"
    }
   ],
   "source": [
    "numerical_string"
   ]
  },
  {
   "cell_type": "code",
   "execution_count": null,
   "id": "5f038cc5-3dcb-40d1-a8d2-265c697aafa1",
   "metadata": {},
   "outputs": [],
   "source": []
  },
  {
   "cell_type": "code",
   "execution_count": null,
   "id": "bf5fa331-4f5d-434d-993a-37ebd9337378",
   "metadata": {},
   "outputs": [],
   "source": []
  }
 ],
 "metadata": {
  "kernelspec": {
   "display_name": "Python 3 (ipykernel)",
   "language": "python",
   "name": "python3"
  },
  "language_info": {
   "codemirror_mode": {
    "name": "ipython",
    "version": 3
   },
   "file_extension": ".py",
   "mimetype": "text/x-python",
   "name": "python",
   "nbconvert_exporter": "python",
   "pygments_lexer": "ipython3",
   "version": "3.10.8"
  }
 },
 "nbformat": 4,
 "nbformat_minor": 5
}
